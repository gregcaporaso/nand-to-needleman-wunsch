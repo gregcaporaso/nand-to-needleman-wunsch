{
 "cells": [
  {
   "cell_type": "code",
   "execution_count": 13,
   "id": "83aa9583",
   "metadata": {},
   "outputs": [
    {
     "name": "stdout",
     "output_type": "stream",
     "text": [
      "1004\n",
      "C instruction: 00001111101100\n",
      "a bit: 0\n",
      "c bits: 001111\n",
      "destination bits: 101\n",
      "jump bits: 100\n"
     ]
    }
   ],
   "source": [
    "s=\"0000001111101100\"\n",
    "\n",
    "def describe_instruction(instruction):\n",
    "    print(f'{int(instruction, 2)}')\n",
    "    instruction = instruction[::-1]\n",
    "    address = ''.join(instruction[0:14][::-1])\n",
    "    if instruction[15] == 0:\n",
    "        print(f\"A instruction; address: {address}\")\n",
    "    else:\n",
    "        print(f\"C instruction: {address}\")\n",
    "        print(f\"a bit: {instruction[12]}\")\n",
    "        print(f\"c bits: {''.join(instruction[6:12][::-1])}\")\n",
    "        print(f\"destination bits: {''.join(instruction[3:6][::-1])}\")\n",
    "        print(f\"jump bits: {''.join(instruction[:3][::-1])}\")\n",
    "\n",
    "describe_instruction(s)\n",
    "        "
   ]
  },
  {
   "cell_type": "code",
   "execution_count": null,
   "id": "de75a904",
   "metadata": {},
   "outputs": [],
   "source": []
  }
 ],
 "metadata": {
  "kernelspec": {
   "display_name": "Python 3 (ipykernel)",
   "language": "python",
   "name": "python3"
  },
  "language_info": {
   "codemirror_mode": {
    "name": "ipython",
    "version": 3
   },
   "file_extension": ".py",
   "mimetype": "text/x-python",
   "name": "python",
   "nbconvert_exporter": "python",
   "pygments_lexer": "ipython3",
   "version": "3.8.18"
  }
 },
 "nbformat": 4,
 "nbformat_minor": 5
}
